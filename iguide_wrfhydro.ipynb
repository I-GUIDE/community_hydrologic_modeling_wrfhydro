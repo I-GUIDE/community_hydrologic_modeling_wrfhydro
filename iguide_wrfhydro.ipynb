{
 "cells": [
  {
   "cell_type": "code",
   "execution_count": 1,
   "id": "be2e4c27-7e8e-40a4-b5e6-d80b51380230",
   "metadata": {},
   "outputs": [],
   "source": [
    "import os\n",
    "import json\n",
    "import time\n",
    "from datetime import datetime, timedelta\n",
    "import shutil\n",
    "\n",
    "import requests"
   ]
  },
  {
   "cell_type": "code",
   "execution_count": 2,
   "id": "88cc2b1c-a3ba-438c-9780-fe82d180e4be",
   "metadata": {},
   "outputs": [],
   "source": [
    "huc12 = \"070200030503\"\n",
    "start_datetime = datetime(2016, 1, 1, 0)\n",
    "end_datetime = datetime(2016, 1, 2, 0)"
   ]
  },
  {
   "cell_type": "code",
   "execution_count": 3,
   "id": "886add5d-49d5-45f8-afa0-69b5e142fa47",
   "metadata": {},
   "outputs": [],
   "source": [
    "workspace = os.getcwd()"
   ]
  },
  {
   "cell_type": "markdown",
   "id": "293edf59-fa23-4835-82ab-f7fe71e7d974",
   "metadata": {},
   "source": [
    "## Subset DOMAIN Files with CUAHSI Subsetter REST APIs"
   ]
  },
  {
   "cell_type": "code",
   "execution_count": 4,
   "id": "298e954d-a48e-4c64-9c9a-637b0818d95a",
   "metadata": {},
   "outputs": [
    {
     "data": {
      "text/plain": [
       "[]"
      ]
     },
     "execution_count": 4,
     "metadata": {},
     "output_type": "execute_result"
    }
   ],
   "source": [
    "# Create a \"Simulation\" directory\n",
    "\n",
    "simulation_dir = os.path.join(workspace, 'Simulation')\n",
    "shutil.rmtree(simulation_dir)\n",
    "os.makedirs(simulation_dir)\n",
    "\n",
    "#List of files\n",
    "os.listdir(simulation_dir)"
   ]
  },
  {
   "cell_type": "code",
   "execution_count": 5,
   "id": "96da0adb-34aa-403d-ba70-4fe14484d822",
   "metadata": {},
   "outputs": [
    {
     "name": "stdout",
     "output_type": "stream",
     "text": [
      "{'hucID': ['070200030503'], 'hucLevel': [12], 'bbox': [64184.53029999882, 527068.1501999982, 73364.89669999882, 536109.8622999982]}\n"
     ]
    }
   ],
   "source": [
    "# https://subset.cuahsi.org/wbd/gethucbbox/lcc?hucID=130202030605\n",
    "# {“hucID”: [“130202030605\"], “hucLevel”: [12], “bbox”: [-873529.4807000011, -531770.8907999992, -842744.9576000011, -521793.4159999992]}\n",
    "\n",
    "gethucbbox_url = \"https://subset.cuahsi.org/wbd/gethucbbox/lcc?hucID={}\".format(huc12)\n",
    "res = requests.get(gethucbbox_url)\n",
    "assert res.status_code == 200\n",
    "gethubbox_res_json = res.json()\n",
    "llat, llon, ulat, ulon = gethubbox_res_json[\"bbox\"]\n",
    "print(gethubbox_res_json)\n"
   ]
  },
  {
   "cell_type": "code",
   "execution_count": 6,
   "id": "f80b9b93-10ae-48d5-b9ed-b0487d1fa0ca",
   "metadata": {},
   "outputs": [
    {
     "name": "stdout",
     "output_type": "stream",
     "text": [
      "subsetting domain files..\n",
      "subsetting domain files....\n",
      "downloading...\n",
      "Archive:  2147a49b3eb039c6c112588014bd3ae2a2a7aaae.zip\n",
      "  inflating: DOMAIN/wrfinput_d0x.nc  \n",
      "  inflating: DOMAIN/hydro2dtbl.nc    \n",
      "  inflating: DOMAIN/spatialweights.nc  \n",
      "  inflating: DOMAIN/GWBUCKPARM.nc    \n",
      "  inflating: DOMAIN/soil_properties.nc  \n",
      "  inflating: DOMAIN/Route_Link.nc    \n",
      "  inflating: DOMAIN/nudgingParams.nc  \n",
      "  inflating: DOMAIN/Fulldom_hires.nc  \n",
      "  inflating: DOMAIN/GEOGRID_LDASOUT_Spatial_Metadata.nc  \n",
      "  inflating: DOMAIN/geo_em.d0x.nc    \n"
     ]
    }
   ],
   "source": [
    "# submit a job via bounding box\n",
    "submit_url = f'https://subset.cuahsi.org/nwm/v2_0/subset?llat={llat}&llon={llon}&ulat={ulat}&ulon={ulon}&hucs=[]'\n",
    "res = requests.get(submit_url)\n",
    "assert res.status_code == 200\n",
    "\n",
    "# grab the job identifier\n",
    "uid = res.url.split('jobid=')[-1]\n",
    "\n",
    "# query job status\n",
    "status_url = f'https://subset.cuahsi.org/jobs/{uid}'\n",
    "\n",
    "attempt = 0\n",
    "max_attempts = 100\n",
    "\n",
    "while attempt < max_attempts:\n",
    "    print(\"subsetting domain files\" + \"..\" * (attempt+1))\n",
    "    res = requests.get(status_url)\n",
    "    status = json.loads(res.text)['status']\n",
    "    if status == 'finished':\n",
    "        print(\"downloading...\")\n",
    "        break\n",
    "    attempt += 1\n",
    "    time.sleep(10)\n",
    "    \n",
    "# download the result\n",
    "dl_url = f'https://subset.cuahsi.org/download-zip/{uid}'\n",
    "\n",
    "local_filename = f'{uid}.zip'\n",
    "with requests.get(dl_url, stream=True) as r:\n",
    "    with open(local_filename, 'wb') as f:\n",
    "        shutil.copyfileobj(r.raw, f)\n",
    "        \n",
    "        \n",
    "# unzip the domain data and remove the zipped one\n",
    "!unzip -o \"$uid\".zip -d DOMAIN\n",
    "!rm -rf \"$uid\".zip"
   ]
  },
  {
   "cell_type": "code",
   "execution_count": 7,
   "id": "74600f21-0514-41ab-8058-d07a4c3528f7",
   "metadata": {},
   "outputs": [
    {
     "data": {
      "text/plain": [
       "'/home/jovyan/work/WRFHydro_iguide_Ayman/Simulation/DOMAIN'"
      ]
     },
     "execution_count": 7,
     "metadata": {},
     "output_type": "execute_result"
    }
   ],
   "source": [
    "# Move DOMAIN directory to Simulation directory\n",
    "\n",
    "# Source path (DOMAIN directory)\n",
    "domain = os.path.join(workspace, \"DOMAIN\")\n",
    "  \n",
    "# Move the content of source to destination\n",
    "shutil.move(domain, simulation_dir)"
   ]
  },
  {
   "cell_type": "markdown",
   "id": "734e2c4f-c6c7-44e4-a918-09ccd1960316",
   "metadata": {},
   "source": [
    "## Subset FORCINGS with GeoEDF Data Processor on CyberGIS Compute"
   ]
  },
  {
   "cell_type": "code",
   "execution_count": 8,
   "id": "5c8e6737-9b54-4a8e-bab1-262848b722db",
   "metadata": {},
   "outputs": [
    {
     "data": {
      "text/plain": [
       "{'hucid_12': '070200030503',\n",
       " 'start_date': '01/01/2016',\n",
       " 'end_date': '01/02/2016'}"
      ]
     },
     "execution_count": 8,
     "metadata": {},
     "output_type": "execute_result"
    }
   ],
   "source": [
    "params_subset_domain = {\"hucid_12\": huc12, \n",
    "                        \"start_date\": start_datetime.strftime(\"%m/%d/%Y\"), \n",
    "                        \"end_date\": end_datetime.strftime(\"%m/%d/%Y\")}\n",
    "params_subset_domain"
   ]
  },
  {
   "cell_type": "code",
   "execution_count": 9,
   "id": "10bd3436-1624-4fcb-a02c-4f5554acacb8",
   "metadata": {},
   "outputs": [
    {
     "data": {
      "application/vnd.jupyter.widget-view+json": {
       "model_id": "088a96a19a7e4aa4badf8221a58e3a80",
       "version_major": 2,
       "version_minor": 0
      },
      "text/plain": [
       "Tab(children=(Output(), Output(), Output(), Output()), _titles={'0': 'Job Configuration', '1': 'Your Job Statu…"
      ]
     },
     "metadata": {},
     "output_type": "display_data"
    }
   ],
   "source": [
    "import cybergis_compute_client\n",
    "from cybergis_compute_client import CyberGISCompute\n",
    "\n",
    "cybergis = CyberGISCompute(url=\"cgjobsup.cigi.illinois.edu\", isJupyter=True, protocol=\"HTTPS\", port=443, suffix=\"v2\")\n",
    "cybergis.show_ui(defaultJob=\"Subset_AORC_Forcing_Data_Processor\") # input_params=params_subset_domain)"
   ]
  },
  {
   "cell_type": "code",
   "execution_count": 10,
   "id": "88f50725-0878-4e41-bd84-1d1669c705d0",
   "metadata": {},
   "outputs": [
    {
     "data": {
      "text/plain": [
       "'1661822587OWjik'"
      ]
     },
     "execution_count": 10,
     "metadata": {},
     "output_type": "execute_result"
    }
   ],
   "source": [
    "jobid_subset_domain = cybergis.job.id\n",
    "forcing_path_HPC = \"{}\".format(jobid_subset_domain)\n",
    "forcing_path_HPC"
   ]
  },
  {
   "cell_type": "markdown",
   "id": "d31c202e-dfe2-4898-aed2-19b50c3a4a6b",
   "metadata": {},
   "source": [
    "## Prepare Model Configurations"
   ]
  },
  {
   "cell_type": "code",
   "execution_count": 11,
   "id": "5cac2671-b7f6-4d89-9fd2-ae53a2c476ed",
   "metadata": {},
   "outputs": [],
   "source": [
    "# setEnvar.sh ---> SPATIAL_SOIL=1 export HYDRO_D=1"
   ]
  },
  {
   "cell_type": "code",
   "execution_count": 12,
   "id": "f3486717-1af3-430e-9f26-7273ab6aefe7",
   "metadata": {},
   "outputs": [
    {
     "name": "stdout",
     "output_type": "stream",
     "text": [
      "--2022-08-30 01:28:03--  https://raw.githubusercontent.com/NCAR/wrf_hydro_nwm_public/v5.2.0/trunk/NDHMS/template/setEnvar.sh\n",
      "Resolving raw.githubusercontent.com (raw.githubusercontent.com)... 185.199.109.133, 185.199.108.133, 185.199.110.133, ...\n",
      "Connecting to raw.githubusercontent.com (raw.githubusercontent.com)|185.199.109.133|:443... connected.\n",
      "HTTP request sent, awaiting response... 200 OK\n",
      "Length: 532 [text/plain]\n",
      "Saving to: ‘setEnvar.sh’\n",
      "\n",
      "setEnvar.sh         100%[===================>]     532  --.-KB/s    in 0s      \n",
      "\n",
      "2022-08-30 01:28:03 (30.1 MB/s) - ‘setEnvar.sh’ saved [532/532]\n",
      "\n",
      "export HYDRO_D=1\n",
      "export SPATIAL_SOIL=1\n"
     ]
    }
   ],
   "source": [
    "! wget https://raw.githubusercontent.com/NCAR/wrf_hydro_nwm_public/v5.2.0/trunk/NDHMS/template/setEnvar.sh\n",
    "! sed -i '/export HYDRO_D=0/c\\export HYDRO_D=1' ./setEnvar.sh\n",
    "! sed -i '/export SPATIAL_SOIL=0/c\\export SPATIAL_SOIL=1' ./setEnvar.sh\n",
    "! cat ./setEnvar.sh | grep -E 'HYDRO_D|SPATIAL_SOIL'\n",
    "! mv ./setEnvar.sh {simulation_dir}"
   ]
  },
  {
   "cell_type": "code",
   "execution_count": null,
   "id": "0dfee6e3-5cc1-4241-87d5-96ea2e361171",
   "metadata": {},
   "outputs": [],
   "source": []
  },
  {
   "cell_type": "code",
   "execution_count": null,
   "id": "5a56f547-b5ac-4c11-9ee5-1f32bee122df",
   "metadata": {},
   "outputs": [],
   "source": [
    "# namelist.hrldas --> START_YEAR START_MONTH START_DAY START_HOUR START_MIN RESTART_FILENAME_REQUESTED\n",
    "start_year = start_datetime.year\n",
    "start_month = \"{:02d}\".format(start_datetime.month)\n",
    "start_day = \"{:02d}\".format(start_datetime.day)\n",
    "start_hour = \"{:02d}\".format(start_datetime.hour)\n",
    "start_minute = \"{:02d}\".format(start_datetime.minute)\n",
    "khour = (end_datetime - start_datetime) / timedelta(hours=1)\n",
    "khour = \"{}\".format(int(khour))"
   ]
  },
  {
   "cell_type": "code",
   "execution_count": null,
   "id": "9c8f2e74-73c3-4a05-b07a-aae0fa55a82f",
   "metadata": {},
   "outputs": [],
   "source": [
    "! wget https://raw.githubusercontent.com/NCAR/wrf_hydro_nwm_public/v5.2.0/trunk/NDHMS/template/NoahMP/namelist.hrldas\n",
    "! sed -i  '/START_YEAR/c\\START_YEAR = '\"$start_year\" ./namelist.hrldas\n",
    "! sed -i  '/START_MONTH/c\\START_MONTH = '\"$start_month\" ./namelist.hrldas\n",
    "! sed -i  '/START_DAY/c\\START_DAY = '\"$start_day\" ./namelist.hrldas\n",
    "! sed -i  '/START_HOUR/c\\START_HOUR = '\"$start_hour\" ./namelist.hrldas\n",
    "! sed -i  '/START_MIN/c\\START_MIN = '\"$start_minute\" ./namelist.hrldas\n",
    "! sed -i  '/KHOUR =/c\\KHOUR = '\"$khour\" ./namelist.hrldas\n",
    "! sed -i  '/RESTART_FILENAME_REQUESTED/c\\!RESTART_FILENAME_REQUESTED = \"\"' ./namelist.hrldas\n",
    "! cat ./namelist.hrldas | grep -E 'START_|KHOUR'\n",
    "! mv ./namelist.hrldas {simulation_dir}"
   ]
  },
  {
   "cell_type": "code",
   "execution_count": 13,
   "id": "9ff1dbbb-bec1-4dfa-85ad-f5471ee7c9cb",
   "metadata": {},
   "outputs": [
    {
     "name": "stdout",
     "output_type": "stream",
     "text": [
      "--2022-08-30 01:28:06--  https://raw.githubusercontent.com/NCAR/wrf_hydro_nwm_public/v5.2.0/trunk/NDHMS/template/HYDRO/hydro.namelist\n",
      "Resolving raw.githubusercontent.com (raw.githubusercontent.com)... 185.199.111.133, 185.199.109.133, 185.199.108.133, ...\n",
      "Connecting to raw.githubusercontent.com (raw.githubusercontent.com)|185.199.111.133|:443... connected.\n",
      "HTTP request sent, awaiting response... 200 OK\n",
      "Length: 11277 (11K) [text/plain]\n",
      "Saving to: ‘hydro.namelist’\n",
      "\n",
      "hydro.namelist      100%[===================>]  11.01K  --.-KB/s    in 0s      \n",
      "\n",
      "2022-08-30 01:28:06 (74.1 MB/s) - ‘hydro.namelist’ saved [11277/11277]\n",
      "\n",
      "!RESTART_FILE = \"\"\n",
      "GW_RESTART = 1\n"
     ]
    }
   ],
   "source": [
    "# hydro.namelist  --> RESTART_FILE\n",
    "! wget https://raw.githubusercontent.com/NCAR/wrf_hydro_nwm_public/v5.2.0/trunk/NDHMS/template/HYDRO/hydro.namelist\n",
    "! sed -i  '/RESTART_FILE/c\\!RESTART_FILE = \"\"' ./hydro.namelist\n",
    "! cat hydro.namelist | grep -E \"RESTART\"\n",
    "! mv ./hydro.namelist {simulation_dir}"
   ]
  },
  {
   "cell_type": "markdown",
   "id": "93d116bc-dfa3-41fe-ac3c-b42d0d3799cc",
   "metadata": {},
   "source": [
    "## Run WRFHydro Model on HPC with CyberGIS Compute"
   ]
  },
  {
   "cell_type": "code",
   "execution_count": 14,
   "id": "29aa142b-3cf8-4916-afb3-1212ac439f93",
   "metadata": {},
   "outputs": [
    {
     "data": {
      "text/plain": [
       "{'Model_Version': 'v5.2.0', 'Forcing_Path': '1661822587OWjik'}"
      ]
     },
     "execution_count": 14,
     "metadata": {},
     "output_type": "execute_result"
    }
   ],
   "source": [
    "params_wrfhydro = {\"Model_Version\": \"v5.2.0\",\n",
    "                   \"Forcing_Path\": forcing_path_HPC}\n",
    "params_wrfhydro"
   ]
  },
  {
   "cell_type": "code",
   "execution_count": 16,
   "id": "b21a5878-22b2-4fe3-adc0-ec5147ddf0d8",
   "metadata": {},
   "outputs": [
    {
     "data": {
      "application/vnd.jupyter.widget-view+json": {
       "model_id": "803f5177640c482e8badfd63bbcaf4fd",
       "version_major": 2,
       "version_minor": 0
      },
      "text/plain": [
       "Tab(children=(Output(), Output(), Output(), Output()), _titles={'0': 'Job Configuration', '1': 'Your Job Statu…"
      ]
     },
     "metadata": {},
     "output_type": "display_data"
    }
   ],
   "source": [
    "cybergis.create_job_by_ui(defaultJob=\"wrfhydro-5.x\", defaultDataFolder=simulation_dir)  #,input_params=params_wrfhydro)"
   ]
  },
  {
   "cell_type": "code",
   "execution_count": null,
   "id": "f8b7d53c-b803-4f32-80de-861e21e10301",
   "metadata": {},
   "outputs": [],
   "source": []
  },
  {
   "cell_type": "code",
   "execution_count": null,
   "id": "f7dc3ab9-005c-4a00-b011-e4d1189ec97e",
   "metadata": {},
   "outputs": [],
   "source": []
  },
  {
   "cell_type": "markdown",
   "id": "d1c27752-56d5-4e46-8457-001aa2c84f70",
   "metadata": {},
   "source": [
    "## Postprocesing"
   ]
  },
  {
   "cell_type": "code",
   "execution_count": null,
   "id": "428f454a-a04e-40d8-b167-01790612520a",
   "metadata": {},
   "outputs": [],
   "source": [
    "# "
   ]
  }
 ],
 "metadata": {
  "kernelspec": {
   "display_name": "Python 3-latest-stable",
   "language": "python",
   "name": "python3"
  },
  "language_info": {
   "codemirror_mode": {
    "name": "ipython",
    "version": 3
   },
   "file_extension": ".py",
   "mimetype": "text/x-python",
   "name": "python",
   "nbconvert_exporter": "python",
   "pygments_lexer": "ipython3",
   "version": "3.9.10"
  }
 },
 "nbformat": 4,
 "nbformat_minor": 5
}
