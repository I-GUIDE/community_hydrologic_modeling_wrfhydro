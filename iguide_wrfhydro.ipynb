{
 "cells": [
  {
   "cell_type": "markdown",
   "id": "1233150b-c4ba-4057-9639-106d7ae36cd4",
   "metadata": {},
   "source": [
    "<img src=\"statics/iguide_logo.png\" width=200 height=200 />\n",
    "\n",
    "# National Water Model (WRFHydro) - Community Hydrological Modelling support on I-GUIDE platform"
   ]
  },
  {
   "cell_type": "markdown",
   "id": "3f609a77-8dc4-4865-bf9c-f89a8847a309",
   "metadata": {},
   "source": [
    "The [I-GUIDE](https://iguide.illinois.edu/) project is extending and enhancing cyberinfrastructure that enables [National Water Model (NWM)](https://water.noaa.gov/about/nwm) data products to be configured and used to address specific questions related to water availability, flood prediction, and inundation mapping. The NWM is an implementation of the Weather Research and Forecasting Model Hydrological modeling system ([WRF-Hydro](https://ncar.ucar.edu/)) at continental-scale. The cyberinfrastructure and workflows needed to implement, set up and configure the data product subsets for a modeling domain of interest are complex, and demand a high level of skill from researchers, thus limiting broad applicability. I-GUIDE is building on modeling capability developed by the [HydroShare](https://www.hydroshare.org/), [CyberGISX](https://cybergisxhub.cigi.illinois.edu/) and other projects enabling computing for the hydrology community and integrating data connectors and processors from the [GeoEDF](https://github.com/geoedf) project to deploy simple to use workflows for setting up and running WRF-Hydro configured like the NWM for any watershed specified in the US NWM modeling domain.\n",
    "\n",
    "This notebook demostrates the setup for a typical WRFHydro model on I-GUIDE platform leveraging different tools or services through out the entire end-to-end modelling workflow illustrated below.\n",
    "\n",
    "<center><img src=\"statics/wrfhydro-workflow.png\" width=600 height=400 /></center>"
   ]
  },
  {
   "cell_type": "code",
   "execution_count": 30,
   "id": "be2e4c27-7e8e-40a4-b5e6-d80b51380230",
   "metadata": {},
   "outputs": [],
   "source": [
    "import os # allows us to communicate with the operating system\n",
    "import time # this module provides various time-related functions\n",
    "from datetime import datetime, timedelta # to specify the time domain for analysis\n",
    "import shutil # this module offers a number of high-level operations on files and collections of files\n",
    "import requests # request module lets us make request to web pages\n",
    "import xarray as xr #xarray makes it easier to work with multidimensional datasets like the NWM forecasts.\n",
    "import matplotlib.pyplot as plt  # helps to create plots."
   ]
  },
  {
   "cell_type": "markdown",
   "id": "8c55b5ca",
   "metadata": {},
   "source": [
    "## Setup Simulation Parameters"
   ]
  },
  {
   "cell_type": "code",
   "execution_count": 52,
   "id": "b50ba18c-da13-4d76-9c6e-4c9c39f060ce",
   "metadata": {},
   "outputs": [],
   "source": [
    "# huc12 id\n",
    "# huc12 = \"070200030503\"\n",
    "huc12 = \"160102030302\"  # huc 12 to identify the spatial domain of interest\n",
    "# huc12 = \"160102030301\"\n",
    "# Start at 00:00 (12AM)\n",
    "start_datetime = datetime(2016, 1, 1)     # specify the simulation start time  (Year, Month, Day)\n",
    "#                          Y   M   D\n",
    "# End at 00:00 (12AM)\n",
    "end_datetime = datetime(2016, 1, 7)     # specify the simulation end time  (Year, Month, Day)\n",
    "#                        Y   M   D\n",
    "\n",
    "# version WRFHydro codebase on github (tag/release/commit id)\n",
    "wrfhydro_version = \"v5.2.0\"  "
   ]
  },
  {
   "cell_type": "markdown",
   "id": "17f009be-88f9-4518-804d-e4f94a11652d",
   "metadata": {},
   "source": [
    "## Map Layout\n",
    "\n",
    "This map layout represents the Logan River Watershed. For this example, we have selected the upstream watershed (the highlighted one)\n",
    "\n",
    "<img src=\"statics//Layout.jpg\" width=400 height=300 />"
   ]
  },
  {
   "cell_type": "code",
   "execution_count": 53,
   "id": "88cc2b1c-a3ba-438c-9780-fe82d180e4be",
   "metadata": {},
   "outputs": [
    {
     "data": {
      "text/plain": [
       "{'huc12_id': '160102030302',\n",
       " 'start_date': '01/01/2016',\n",
       " 'end_date': '01/07/2016'}"
      ]
     },
     "execution_count": 53,
     "metadata": {},
     "output_type": "execute_result"
    }
   ],
   "source": [
    "params_subset_domain = {\"huc12_id\": huc12, \n",
    "                        \"start_date\": start_datetime.strftime(\"%m/%d/%Y\"), \n",
    "                        \"end_date\": end_datetime.strftime(\"%m/%d/%Y\")}\n",
    "params_subset_domain"
   ]
  },
  {
   "cell_type": "markdown",
   "id": "293edf59-fa23-4835-82ab-f7fe71e7d974",
   "metadata": {},
   "source": [
    "## Subset DOMAIN Files with GeoEDF Data Connector on CyberGIS Compute"
   ]
  },
  {
   "cell_type": "markdown",
   "id": "195cebe0-f046-4fc9-b7bc-169866211e6d",
   "metadata": {},
   "source": [
    "The source of WRFHydro DOMAIN files is [CUAHSI Domain Subsetter](https://subset.cuahsi.org/) service. I-GUIDE provides a reusable [GeoEDF Data Connector](https://dl.acm.org/doi/10.1145/3311790.3396631) ([CUAHSISubsetterInput-Connector](https://github.com/I-GUIDE/cybergis-compute-cuahsisubsetterinput-connector) ) that makes requests to CUAHSI Domain Subsetter REST APIs and retrieves the domain files ready for model use. The GeoEDF Data Connector has been integrated into [CyberGIS-Compute](https://cybergis.github.io/cybergis-compute-python-sdk/reference.html) as a job that can be invoked by users from Jupyter environment and executed on supported HPC resources. The subset domain files staged remotely is ready for use by WRFHydro model on HPC, and user has the option to download the files from HPC back to Jupyter for local manipulation."
   ]
  },
  {
   "cell_type": "code",
   "execution_count": 54,
   "id": "3ba8ad45",
   "metadata": {},
   "outputs": [
    {
     "data": {
      "application/vnd.jupyter.widget-view+json": {
       "model_id": "6da56c44fbae4caeb5f30a2dbdf896c1",
       "version_major": 2,
       "version_minor": 0
      },
      "text/plain": [
       "Tab(children=(Output(), Output(), Output(), Output()), selected_index=0, titles=('Job Configuration', 'Your Jo…"
      ]
     },
     "metadata": {},
     "output_type": "display_data"
    }
   ],
   "source": [
    "import cybergis_compute_client\n",
    "from cybergis_compute_client import CyberGISCompute\n",
    "\n",
    "cybergis = CyberGISCompute(url=\"cgjobsup.cigi.illinois.edu\", isJupyter=True, protocol=\"HTTPS\", port=443, suffix=\"v2\")\n",
    "cybergis.show_ui(defaultJob=\"CUAHSI_Subsetter_Connector\", input_params=params_subset_domain)"
   ]
  },
  {
   "cell_type": "markdown",
   "id": "27a78851-c2bc-4d88-ba8e-17b7844aa9d7",
   "metadata": {},
   "source": [
    "Make sure to download the output and then continueRetain Domain Subsetter JobID for later reference"
   ]
  },
  {
   "cell_type": "code",
   "execution_count": 55,
   "id": "e0ae01ad",
   "metadata": {},
   "outputs": [
    {
     "data": {
      "text/plain": [
       "'1662148316evEVL'"
      ]
     },
     "execution_count": 55,
     "metadata": {},
     "output_type": "execute_result"
    }
   ],
   "source": [
    "jobid_cuahsi_subset_domain = cybergis.job.id\n",
    "jobid_cuahsi_subset_domain"
   ]
  },
  {
   "cell_type": "markdown",
   "id": "734e2c4f-c6c7-44e4-a918-09ccd1960316",
   "metadata": {},
   "source": [
    "## Subset FORCINGS with GeoEDF Data Processor on CyberGIS Compute"
   ]
  },
  {
   "cell_type": "markdown",
   "id": "e44f1265-fefd-4163-8e24-5964eefa6282",
   "metadata": {},
   "source": [
    "The source of WRFHydro FORCING files is [AORC](https://registry.opendata.aws/nwm-archive/) dataset hosted on AWS. I-GUIDE provides a reusable [GeoEDF Data Processor](https://dl.acm.org/doi/10.1145/3311790.3396631) ([SubsetForcingData-Processor](https://github.com/I-GUIDE/cybergis-compute-subsetaorcforcingdata-processor) ) that subsets forcing files spatially and temporally. This GeoEDF Data Processor has been integrated into [CyberGIS-Compute](https://cybergis.github.io/cybergis-compute-python-sdk/reference.html) as a job that can be invoked by users from Jupyter environment and executed on supported HPC resources. The subset forcing files staged remotely is ready for use by WRFHydro model on HPC, and user has the option to download the files from HPC back to Jupyter for local manipulation."
   ]
  },
  {
   "cell_type": "code",
   "execution_count": 56,
   "id": "10bd3436-1624-4fcb-a02c-4f5554acacb8",
   "metadata": {},
   "outputs": [
    {
     "data": {
      "application/vnd.jupyter.widget-view+json": {
       "model_id": "0a2d9cbb85b4454f9045ccb94a928d5f",
       "version_major": 2,
       "version_minor": 0
      },
      "text/plain": [
       "Tab(children=(Output(), Output(), Output(), Output()), selected_index=0, titles=('Job Configuration', 'Your Jo…"
      ]
     },
     "metadata": {},
     "output_type": "display_data"
    }
   ],
   "source": [
    "import cybergis_compute_client\n",
    "from cybergis_compute_client import CyberGISCompute\n",
    "\n",
    "cybergis = CyberGISCompute(url=\"cgjobsup.cigi.illinois.edu\", isJupyter=True, protocol=\"HTTPS\", port=443, suffix=\"v2\")\n",
    "cybergis.show_ui(defaultJob=\"Subset_AORC_Forcing_Data_Processor\", input_params=params_subset_domain)"
   ]
  },
  {
   "cell_type": "markdown",
   "id": "ca565355-50c7-4688-9a0e-4442d6269571",
   "metadata": {},
   "source": [
    "Retain Forcing Processor JobID for later reference"
   ]
  },
  {
   "cell_type": "code",
   "execution_count": 57,
   "id": "88f50725-0878-4e41-bd84-1d1669c705d0",
   "metadata": {},
   "outputs": [
    {
     "data": {
      "text/plain": [
       "'1662148833iohwA'"
      ]
     },
     "execution_count": 57,
     "metadata": {},
     "output_type": "execute_result"
    }
   ],
   "source": [
    "jobid_subset_forcing = cybergis.job.id\n",
    "jobid_subset_forcing"
   ]
  },
  {
   "cell_type": "markdown",
   "id": "d31c202e-dfe2-4898-aed2-19b50c3a4a6b",
   "metadata": {},
   "source": [
    "## Prepare Model Configurations"
   ]
  },
  {
   "cell_type": "code",
   "execution_count": 8,
   "id": "5cac2671-b7f6-4d89-9fd2-ae53a2c476ed",
   "metadata": {},
   "outputs": [],
   "source": [
    "# setEnvar.sh ---> SPATIAL_SOIL=1 export HYDRO_D=1"
   ]
  },
  {
   "cell_type": "code",
   "execution_count": 59,
   "id": "1d2713c4",
   "metadata": {},
   "outputs": [
    {
     "data": {
      "text/plain": [
       "[]"
      ]
     },
     "execution_count": 59,
     "metadata": {},
     "output_type": "execute_result"
    }
   ],
   "source": [
    "# Create a \"Simulation\" directory\n",
    "\n",
    "workspace = os.getcwd()\n",
    "\n",
    "simulation_dir = os.path.join(workspace, 'Simulation')\n",
    "if os.path.exists(simulation_dir):\n",
    "    shutil.rmtree(simulation_dir)\n",
    "os.makedirs(simulation_dir)\n",
    "\n",
    "#List of files\n",
    "os.listdir(simulation_dir)"
   ]
  },
  {
   "cell_type": "code",
   "execution_count": 60,
   "id": "f3486717-1af3-430e-9f26-7273ab6aefe7",
   "metadata": {},
   "outputs": [
    {
     "name": "stdout",
     "output_type": "stream",
     "text": [
      "--2022-09-02 20:01:48--  https://raw.githubusercontent.com/NCAR/wrf_hydro_nwm_public/v5.2.0/trunk/NDHMS/template/setEnvar.sh\n",
      "Resolving raw.githubusercontent.com (raw.githubusercontent.com)... 185.199.110.133, 185.199.111.133, 185.199.109.133, ...\n",
      "Connecting to raw.githubusercontent.com (raw.githubusercontent.com)|185.199.110.133|:443... connected.\n",
      "HTTP request sent, awaiting response... 200 OK\n",
      "Length: 532 [text/plain]\n",
      "Saving to: ‘setEnvar.sh’\n",
      "\n",
      "setEnvar.sh         100%[===================>]     532  --.-KB/s    in 0s      \n",
      "\n",
      "2022-09-02 20:01:48 (29.6 MB/s) - ‘setEnvar.sh’ saved [532/532]\n",
      "\n",
      "export HYDRO_D=1\n",
      "export SPATIAL_SOIL=1\n"
     ]
    }
   ],
   "source": [
    "! wget https://raw.githubusercontent.com/NCAR/wrf_hydro_nwm_public/v5.2.0/trunk/NDHMS/template/setEnvar.sh\n",
    "! sed -i '/export HYDRO_D=0/c\\export HYDRO_D=1' ./setEnvar.sh\n",
    "! sed -i '/export SPATIAL_SOIL=0/c\\export SPATIAL_SOIL=1' ./setEnvar.sh\n",
    "! cat ./setEnvar.sh | grep -E 'HYDRO_D|SPATIAL_SOIL'\n",
    "! mv ./setEnvar.sh {simulation_dir}"
   ]
  },
  {
   "cell_type": "code",
   "execution_count": 61,
   "id": "5a56f547-b5ac-4c11-9ee5-1f32bee122df",
   "metadata": {},
   "outputs": [],
   "source": [
    "# namelist.hrldas --> START_YEAR START_MONTH START_DAY START_HOUR START_MIN RESTART_FILENAME_REQUESTED\n",
    "start_year = start_datetime.year\n",
    "start_month = \"{:02d}\".format(start_datetime.month)\n",
    "start_day = \"{:02d}\".format(start_datetime.day)\n",
    "start_hour = \"{:02d}\".format(start_datetime.hour)\n",
    "start_minute = \"{:02d}\".format(start_datetime.minute)\n",
    "khour = (end_datetime - start_datetime) / timedelta(hours=1)\n",
    "khour = \"{}\".format(int(khour))"
   ]
  },
  {
   "cell_type": "code",
   "execution_count": 62,
   "id": "9c8f2e74-73c3-4a05-b07a-aae0fa55a82f",
   "metadata": {},
   "outputs": [
    {
     "name": "stdout",
     "output_type": "stream",
     "text": [
      "--2022-09-02 20:01:56--  https://raw.githubusercontent.com/NCAR/wrf_hydro_nwm_public/v5.2.0/trunk/NDHMS/template/NoahMP/namelist.hrldas\n",
      "Resolving raw.githubusercontent.com (raw.githubusercontent.com)... 185.199.108.133, 185.199.111.133, 185.199.110.133, ...\n",
      "Connecting to raw.githubusercontent.com (raw.githubusercontent.com)|185.199.108.133|:443... connected.\n",
      "HTTP request sent, awaiting response... 200 OK\n",
      "Length: 2425 (2.4K) [text/plain]\n",
      "Saving to: ‘namelist.hrldas’\n",
      "\n",
      "namelist.hrldas     100%[===================>]   2.37K  --.-KB/s    in 0s      \n",
      "\n",
      "2022-09-02 20:01:56 (47.2 MB/s) - ‘namelist.hrldas’ saved [2425/2425]\n",
      "\n",
      "HRLDAS_SETUP_FILE = \"./DOMAIN/wrfinput_d0x.nc\"\n",
      "START_YEAR = 2016\n",
      "START_MONTH = 01\n",
      "START_DAY = 01\n",
      "START_HOUR = 00\n",
      "START_MIN = 00\n",
      "!RESTART_FILENAME_REQUESTED = \"\"\n",
      "KHOUR = 144\n",
      "RESTART_FREQUENCY_HOURS = 24\n"
     ]
    }
   ],
   "source": [
    "! rm -rf namelist.hrldas\n",
    "! wget https://raw.githubusercontent.com/NCAR/wrf_hydro_nwm_public/v5.2.0/trunk/NDHMS/template/NoahMP/namelist.hrldas\n",
    "! sed -i  '/HRLDAS_SETUP_FILE/c\\HRLDAS_SETUP_FILE = \"./DOMAIN/wrfinput_d0x.nc\"' ./namelist.hrldas\n",
    "! sed -i  '/START_YEAR/c\\START_YEAR = '\"$start_year\" ./namelist.hrldas\n",
    "! sed -i  '/START_MONTH/c\\START_MONTH = '\"$start_month\" ./namelist.hrldas\n",
    "! sed -i  '/START_DAY/c\\START_DAY = '\"$start_day\" ./namelist.hrldas\n",
    "! sed -i  '/START_HOUR/c\\START_HOUR = '\"$start_hour\" ./namelist.hrldas\n",
    "! sed -i  '/START_MIN/c\\START_MIN = '\"$start_minute\" ./namelist.hrldas\n",
    "! sed -i  '/KHOUR =/c\\KHOUR = '\"$khour\" ./namelist.hrldas\n",
    "! sed -i  '/RESTART_FILENAME_REQUESTED/c\\!RESTART_FILENAME_REQUESTED = \"\"' ./namelist.hrldas\n",
    "! cat ./namelist.hrldas | grep -E 'HRLDAS_SETUP_FILE|START_|KHOUR'\n",
    "! mv ./namelist.hrldas {simulation_dir}"
   ]
  },
  {
   "cell_type": "code",
   "execution_count": 63,
   "id": "9ff1dbbb-bec1-4dfa-85ad-f5471ee7c9cb",
   "metadata": {},
   "outputs": [
    {
     "name": "stdout",
     "output_type": "stream",
     "text": [
      "--2022-09-02 20:02:02--  https://raw.githubusercontent.com/NCAR/wrf_hydro_nwm_public/v5.2.0/trunk/NDHMS/template/HYDRO/hydro.namelist\n",
      "Resolving raw.githubusercontent.com (raw.githubusercontent.com)... 185.199.109.133, 185.199.111.133, 185.199.108.133, ...\n",
      "Connecting to raw.githubusercontent.com (raw.githubusercontent.com)|185.199.109.133|:443... connected.\n",
      "HTTP request sent, awaiting response... 200 OK\n",
      "Length: 11277 (11K) [text/plain]\n",
      "Saving to: ‘hydro.namelist’\n",
      "\n",
      "hydro.namelist      100%[===================>]  11.01K  --.-KB/s    in 0s      \n",
      "\n",
      "2022-09-02 20:02:02 (141 MB/s) - ‘hydro.namelist’ saved [11277/11277]\n",
      "\n",
      "!RESTART_FILE = \"\"\n",
      "GW_RESTART = 0\n",
      "outlake  = 0\n",
      "!route_lake_f  = \"./DOMAIN/LAKEPARM.nc\"\n",
      "GWBASESWCRT  = 1\n",
      "!gwbasmskfil  = \"./DOMAIN/GWBASINS.nc\"\n"
     ]
    }
   ],
   "source": [
    "# hydro.namelist  --> RESTART_FILE\n",
    "! rm -rf hydro.namelist\n",
    "! wget https://raw.githubusercontent.com/NCAR/wrf_hydro_nwm_public/v5.2.0/trunk/NDHMS/template/HYDRO/hydro.namelist\n",
    "! sed -i '/GEO_STATIC_FLNM/c\\GEO_STATIC_FLNM = \"./DOMAIN/geo_em.d0x.nc\"' ./hydro.namelist\n",
    "! sed -i '/RESTART_FILE/c\\!RESTART_FILE = \"\"' ./hydro.namelist\n",
    "! sed -i  '/GW_RESTART/c\\GW_RESTART = 0' ./hydro.namelist\n",
    "! sed -i  '/LSMOUT_DOMAIN/c\\LSMOUT_DOMAIN = 1' ./hydro.namelist\n",
    "! sed -i  '/output_gw/c\\output_gw = 1' ./hydro.namelist\n",
    "! sed -i '/outlake/c\\outlake  = 0' ./hydro.namelist\n",
    "! sed -i '/output_gw/c\\output_gw  = 0' ./hydro.namelist\n",
    "! sed -i '/GWBASESWCRT/c\\GWBASESWCRT  = 1' ./hydro.namelist\n",
    "! sed -i '/output_channelBucket_influx/c\\output_channelBucket_influx  = 2' ./hydro.namelist\n",
    "! sed -i '/channel_option/c\\channel_option  = 2' ./hydro.namelist\n",
    "! sed -i '/route_link_f/c\\route_link_f  = \"./DOMAIN/Route_Link.nc\"' ./hydro.namelist\n",
    "! sed -i '/compound_channel/c\\!compound_channel  = .FALSE.' ./hydro.namelist\n",
    "! sed -i '/route_lake_f/c\\!route_lake_f  = \"./DOMAIN/LAKEPARM.nc\"' ./hydro.namelist\n",
    "! sed -i '/gwbasmskfil/c\\!gwbasmskfil  = \"./DOMAIN/GWBASINS.nc\"' ./hydro.namelist\n",
    "! sed -i '/UDMP_OPT/c\\UDMP_OPT  = 1' ./hydro.namelist\n",
    "! sed -i '/!udmap_file/c\\udmap_file = \"./DOMAIN/spatialweights.nc\"' ./hydro.namelist\n",
    "! cat hydro.namelist | grep -E \"RESTART|outlake|GWBASESWCRT|route_lake_f|gwbasmskfil\"\n",
    "! mv ./hydro.namelist {simulation_dir}"
   ]
  },
  {
   "cell_type": "markdown",
   "id": "93d116bc-dfa3-41fe-ac3c-b42d0d3799cc",
   "metadata": {},
   "source": [
    "## Run WRFHydro Model on HPC with CyberGIS Compute"
   ]
  },
  {
   "cell_type": "code",
   "execution_count": 64,
   "id": "29aa142b-3cf8-4916-afb3-1212ac439f93",
   "metadata": {},
   "outputs": [
    {
     "data": {
      "text/plain": [
       "{'Model_Version': 'v5.2.0',\n",
       " 'LSM_Type': 'NoahMP',\n",
       " 'Forcing_Path': '1662148833iohwA',\n",
       " 'Domain_Path': '1662148316evEVL',\n",
       " 'Merge_Output': 'True'}"
      ]
     },
     "execution_count": 64,
     "metadata": {},
     "output_type": "execute_result"
    }
   ],
   "source": [
    "params_wrfhydro = {\"Model_Version\": wrfhydro_version,\n",
    "                   \"LSM_Type\": \"NoahMP\",\n",
    "                   \"Forcing_Path\": jobid_subset_forcing,\n",
    "                   \"Domain_Path\": jobid_cuahsi_subset_domain,\n",
    "                   \"Merge_Output\": \"True\"}\n",
    "params_wrfhydro"
   ]
  },
  {
   "cell_type": "code",
   "execution_count": 65,
   "id": "b21a5878-22b2-4fe3-adc0-ec5147ddf0d8",
   "metadata": {},
   "outputs": [
    {
     "data": {
      "application/vnd.jupyter.widget-view+json": {
       "model_id": "911083c1a6c2494ebf6e5597a7397d0f",
       "version_major": 2,
       "version_minor": 0
      },
      "text/plain": [
       "Tab(children=(Output(), Output(), Output(), Output()), selected_index=0, titles=('Job Configuration', 'Your Jo…"
      ]
     },
     "metadata": {},
     "output_type": "display_data"
    }
   ],
   "source": [
    "import cybergis_compute_client\n",
    "from cybergis_compute_client import CyberGISCompute\n",
    "\n",
    "cybergis = CyberGISCompute(url=\"cgjobsup.cigi.illinois.edu\", isJupyter=True, protocol=\"HTTPS\", port=443, suffix=\"v2\")\n",
    "cybergis.create_job_by_ui(defaultJob=\"wrfhydro-5.x\", defaultDataFolder=simulation_dir,input_params=params_wrfhydro)"
   ]
  },
  {
   "cell_type": "markdown",
   "id": "7f9ae776-7b0d-4648-89ff-a00852a1f539",
   "metadata": {},
   "source": [
    "Download only the Outputs_Merged/CHRTOUT folder and retain WRFHydro JobID"
   ]
  },
  {
   "cell_type": "code",
   "execution_count": 66,
   "id": "b80e9e39-1117-4681-9d7b-4fbb32511dc7",
   "metadata": {},
   "outputs": [
    {
     "name": "stdout",
     "output_type": "stream",
     "text": [
      "/home/jovyan/globus_download_16621489405eSZS:\n",
      "CHRTOUT_DOMAIN1_merged.nc\n"
     ]
    }
   ],
   "source": [
    "jobid_wrfhydro = cybergis.job.id\n",
    "output_wrfhydro = cybergis.recentDownloadPath\n",
    "!ls -LR {output_wrfhydro}"
   ]
  },
  {
   "cell_type": "markdown",
   "id": "c1aa8334-87b1-45a4-865b-355b08819087",
   "metadata": {},
   "source": [
    "## Data Visualization"
   ]
  },
  {
   "cell_type": "code",
   "execution_count": 67,
   "id": "10a0dec5-95f4-40eb-8325-0de6d274d4e4",
   "metadata": {
    "scrolled": true,
    "tags": []
   },
   "outputs": [
    {
     "name": "stdout",
     "output_type": "stream",
     "text": [
      "/home/jovyan/globus_download_16621489405eSZS/CHRTOUT_DOMAIN1_merged.nc\n",
      "/home/jovyan/globus_download_1662148316evEVL/Route_Link.nc\n"
     ]
    },
    {
     "data": {
      "text/html": [
       "<div>\n",
       "<style scoped>\n",
       "    .dataframe tbody tr th:only-of-type {\n",
       "        vertical-align: middle;\n",
       "    }\n",
       "\n",
       "    .dataframe tbody tr th {\n",
       "        vertical-align: top;\n",
       "    }\n",
       "\n",
       "    .dataframe thead th {\n",
       "        text-align: right;\n",
       "    }\n",
       "</style>\n",
       "<table border=\"1\" class=\"dataframe\">\n",
       "  <thead>\n",
       "    <tr style=\"text-align: right;\">\n",
       "      <th></th>\n",
       "      <th>feature_id</th>\n",
       "      <th>stream_order</th>\n",
       "      <th>comid</th>\n",
       "      <th>usgs_gageid</th>\n",
       "      <th>lat-midpoint</th>\n",
       "      <th>lon-midpoint</th>\n",
       "      <th>downstream_comid</th>\n",
       "      <th>upstream_comid</th>\n",
       "    </tr>\n",
       "  </thead>\n",
       "  <tbody>\n",
       "    <tr>\n",
       "      <th>0</th>\n",
       "      <td>0</td>\n",
       "      <td>1</td>\n",
       "      <td>661278</td>\n",
       "      <td></td>\n",
       "      <td>42.069935</td>\n",
       "      <td>-111.614906</td>\n",
       "      <td>661280</td>\n",
       "      <td>0</td>\n",
       "    </tr>\n",
       "    <tr>\n",
       "      <th>1</th>\n",
       "      <td>122</td>\n",
       "      <td>1</td>\n",
       "      <td>664098</td>\n",
       "      <td></td>\n",
       "      <td>41.961823</td>\n",
       "      <td>-111.589806</td>\n",
       "      <td>664110</td>\n",
       "      <td>0</td>\n",
       "    </tr>\n",
       "    <tr>\n",
       "      <th>2</th>\n",
       "      <td>124</td>\n",
       "      <td>1</td>\n",
       "      <td>664104</td>\n",
       "      <td></td>\n",
       "      <td>41.960060</td>\n",
       "      <td>-111.589516</td>\n",
       "      <td>664108</td>\n",
       "      <td>0</td>\n",
       "    </tr>\n",
       "    <tr>\n",
       "      <th>3</th>\n",
       "      <td>126</td>\n",
       "      <td>1</td>\n",
       "      <td>664108</td>\n",
       "      <td></td>\n",
       "      <td>41.959370</td>\n",
       "      <td>-111.589195</td>\n",
       "      <td>664122</td>\n",
       "      <td>0</td>\n",
       "    </tr>\n",
       "    <tr>\n",
       "      <th>4</th>\n",
       "      <td>53</td>\n",
       "      <td>1</td>\n",
       "      <td>661292</td>\n",
       "      <td></td>\n",
       "      <td>42.046421</td>\n",
       "      <td>-111.560333</td>\n",
       "      <td>661298</td>\n",
       "      <td>0</td>\n",
       "    </tr>\n",
       "    <tr>\n",
       "      <th>...</th>\n",
       "      <td>...</td>\n",
       "      <td>...</td>\n",
       "      <td>...</td>\n",
       "      <td>...</td>\n",
       "      <td>...</td>\n",
       "      <td>...</td>\n",
       "      <td>...</td>\n",
       "      <td>...</td>\n",
       "    </tr>\n",
       "    <tr>\n",
       "      <th>131</th>\n",
       "      <td>134</td>\n",
       "      <td>4</td>\n",
       "      <td>664162</td>\n",
       "      <td></td>\n",
       "      <td>41.898247</td>\n",
       "      <td>-111.565254</td>\n",
       "      <td>664168</td>\n",
       "      <td>0</td>\n",
       "    </tr>\n",
       "    <tr>\n",
       "      <th>132</th>\n",
       "      <td>131</td>\n",
       "      <td>4</td>\n",
       "      <td>664148</td>\n",
       "      <td></td>\n",
       "      <td>41.917816</td>\n",
       "      <td>-111.563545</td>\n",
       "      <td>664152</td>\n",
       "      <td>0</td>\n",
       "    </tr>\n",
       "    <tr>\n",
       "      <th>133</th>\n",
       "      <td>132</td>\n",
       "      <td>4</td>\n",
       "      <td>664152</td>\n",
       "      <td></td>\n",
       "      <td>41.909115</td>\n",
       "      <td>-111.563324</td>\n",
       "      <td>664156</td>\n",
       "      <td>0</td>\n",
       "    </tr>\n",
       "    <tr>\n",
       "      <th>134</th>\n",
       "      <td>133</td>\n",
       "      <td>4</td>\n",
       "      <td>664156</td>\n",
       "      <td></td>\n",
       "      <td>41.905579</td>\n",
       "      <td>-111.563744</td>\n",
       "      <td>664162</td>\n",
       "      <td>0</td>\n",
       "    </tr>\n",
       "    <tr>\n",
       "      <th>135</th>\n",
       "      <td>135</td>\n",
       "      <td>4</td>\n",
       "      <td>664168</td>\n",
       "      <td></td>\n",
       "      <td>41.888714</td>\n",
       "      <td>-111.564133</td>\n",
       "      <td>0</td>\n",
       "      <td>0</td>\n",
       "    </tr>\n",
       "  </tbody>\n",
       "</table>\n",
       "<p>136 rows × 8 columns</p>\n",
       "</div>"
      ],
      "text/plain": [
       "    feature_id  stream_order   comid usgs_gageid  lat-midpoint  lon-midpoint  \\\n",
       "0            0             1  661278                 42.069935   -111.614906   \n",
       "1          122             1  664098                 41.961823   -111.589806   \n",
       "2          124             1  664104                 41.960060   -111.589516   \n",
       "3          126             1  664108                 41.959370   -111.589195   \n",
       "4           53             1  661292                 42.046421   -111.560333   \n",
       "..         ...           ...     ...         ...           ...           ...   \n",
       "131        134             4  664162                 41.898247   -111.565254   \n",
       "132        131             4  664148                 41.917816   -111.563545   \n",
       "133        132             4  664152                 41.909115   -111.563324   \n",
       "134        133             4  664156                 41.905579   -111.563744   \n",
       "135        135             4  664168                 41.888714   -111.564133   \n",
       "\n",
       "     downstream_comid  upstream_comid  \n",
       "0              661280               0  \n",
       "1              664110               0  \n",
       "2              664108               0  \n",
       "3              664122               0  \n",
       "4              661298               0  \n",
       "..                ...             ...  \n",
       "131            664168               0  \n",
       "132            664152               0  \n",
       "133            664156               0  \n",
       "134            664162               0  \n",
       "135                 0               0  \n",
       "\n",
       "[136 rows x 8 columns]"
      ]
     },
     "execution_count": 67,
     "metadata": {},
     "output_type": "execute_result"
    }
   ],
   "source": [
    "# path of the merged file of channel routing \"CHRTOUT_DOMAIN1_merged.nc\"\n",
    "ch_file = '{}/CHRTOUT_DOMAIN1_merged.nc'.format(output_wrfhydro)\n",
    "print(ch_file)\n",
    "# path of the route link \"Rouet_Link.nc\"\n",
    "routelink ='/home/jovyan/globus_download_{}/Route_Link.nc'.format(jobid_cuahsi_subset_domain)\n",
    "print(routelink)\n",
    "\n",
    "# convert rouetlink to dataframe\n",
    "route_df = xr.open_dataset(routelink).to_dataframe() # convert routelink to dataframe\n",
    "route_df.gages = route_df.gages.str.decode('utf-8').str.strip()\n",
    "route_df # print out the routelink dataframe\n",
    "\n",
    "# Re-name the \"Route_Link.nc\" variables\n",
    "cols = ['order', 'link', 'gages', 'lat', 'lon', 'to', 'from']  # columns name of original routelink dataframe\n",
    "route_re_df = route_df[cols].sort_values(by=['order'])      # reduce the size of routelink dataframe to include only these columns ['order', 'link', 'gages', 'lat', 'lon', 'to', 'from']\n",
    "\n",
    "# rename the columns\n",
    "route_renm_df = route_re_df.rename(index=str, columns={\"order\": \"stream_order\",\n",
    "                                       \"link\": \"comid\",\n",
    "                                       \"from\": 'upstream_comid',\n",
    "                                       'to':'downstream_comid',\n",
    "                                       \"gages\": 'usgs_gageid',\n",
    "                                       \"lat\": 'lat-midpoint',\n",
    "                                       \"lon\": 'lon-midpoint'})\n",
    "route_renm_df.reset_index(inplace=True)\n",
    "# data.drop('linkDim', axis=1, inplace=True)\n",
    "\n",
    "########################################################################\n",
    "########################################################################\n",
    "# Load channel routing data \"CHRTOUT_DOMAIN1_merged.nc\"\n",
    "channel_ds = xr.open_dataset(ch_file)\n",
    "########################################################################\n",
    "########################################################################\n",
    "\n",
    "# Reduce the size of the dataset to only the essential variables.\n",
    "reach_ds = channel_ds\n",
    "reach_ds = reach_ds[['streamflow',        # Streamflow \n",
    "                     'q_lateral',         # lateral inflow through reach\n",
    "                     'qSfcLatRunoff',     # runoff from terrain routing\n",
    "                     'qBucket',           # flux from groundwater (gw) bucket\n",
    "                     'qBtmVertRunoff',    # runoff from bottom of soil to bucket\n",
    "                     'order',\n",
    "                     'velocity',\n",
    "                     'Head',\n",
    "                     'elevation']]\n",
    "\n",
    "## clean unnecessary data\n",
    "reach_ds = reach_ds.reset_coords()\n",
    "reach_ds = reach_ds.drop(labels=['latitude','longitude'])\n",
    "reach_ds.attrs = {}\n",
    "\n",
    "route_renm_df"
   ]
  },
  {
   "cell_type": "markdown",
   "id": "53930b64-d736-4740-a83b-f4bc20cfb71d",
   "metadata": {},
   "source": [
    "The next cell shows all the National Water Model (NWM)  reaches. Please click on the reach of interest that is located within your selected watershed domain"
   ]
  },
  {
   "cell_type": "code",
   "execution_count": 68,
   "id": "a5d8939d-52e5-4779-91d8-c3781251877b",
   "metadata": {},
   "outputs": [
    {
     "data": {
      "text/html": [
       "<html>\n",
       "<head></head>\n",
       "<body>\n",
       "<iframe title=\"NWM Reaches\" src=\"https://byu-hydroinformatics.github.io/csb-jr233/\" width=900 height=600>\n",
       "</iframe>\n",
       "</body>\n",
       "</html>\n"
      ],
      "text/plain": [
       "<IPython.core.display.HTML object>"
      ]
     },
     "metadata": {},
     "output_type": "display_data"
    }
   ],
   "source": [
    "%%HTML\n",
    "<html>\n",
    "<head></head>\n",
    "<body>\n",
    "<iframe title=\"NWM Reaches\" src=\"https://byu-hydroinformatics.github.io/csb-jr233/\" width=900 height=600>\n",
    "</iframe>\n",
    "</body>\n",
    "</html>"
   ]
  },
  {
   "cell_type": "code",
   "execution_count": 69,
   "id": "65431c4d-c45c-42fe-bd62-9607f128fa67",
   "metadata": {},
   "outputs": [
    {
     "data": {
      "image/png": "[encoded data removed]",
      "text/plain": [
       "<Figure size 1200x600 with 1 Axes>"
      ]
     },
     "metadata": {},
     "output_type": "display_data"
    }
   ],
   "source": [
    "import matplotlib.pyplot as plt\n",
    "reachid= 664168\n",
    "\n",
    "fig, ax = plt.subplots(1, 1, figsize=(12,6), sharex='col')\n",
    "\n",
    "reach_ds.sel(feature_id=reachid)['streamflow'].plot(ax=ax,\n",
    "                                                    label='Total Outflow ($m^3$/s)',\n",
    "                                                    color='red',\n",
    "                                                    linestyle='--')\n",
    "# plot settings\n",
    "plt.ylabel('Discharge, $m^3$/s')\n",
    "plt.xlabel(\"Time\")\n",
    "# plt.title(\"\")\n",
    "plt.legend(loc=\"upper right\")\n",
    "plt.savefig('Hydrograph.png')"
   ]
  },
  {
   "cell_type": "markdown",
   "id": "b61f801f-4dce-4e18-a725-2dd3ee44341b",
   "metadata": {},
   "source": [
    "## The End"
   ]
  }
 ],
 "metadata": {
  "kernelspec": {
   "display_name": "Python [conda env:iguide]",
   "language": "python",
   "name": "conda-env-iguide-py"
  },
  "language_info": {
   "codemirror_mode": {
    "name": "ipython",
    "version": 3
   },
   "file_extension": ".py",
   "mimetype": "text/x-python",
   "name": "python",
   "nbconvert_exporter": "python",
   "pygments_lexer": "ipython3",
   "version": "3.8.13"
  }
 },
 "nbformat": 4,
 "nbformat_minor": 5
}
