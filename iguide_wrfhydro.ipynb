{
 "cells": [
  {
   "cell_type": "code",
   "execution_count": null,
   "id": "be2e4c27-7e8e-40a4-b5e6-d80b51380230",
   "metadata": {},
   "outputs": [],
   "source": [
    "import os\n",
    "import json\n",
    "import time\n",
    "from datetime import datetime, timedelta\n",
    "import shutil\n",
    "\n",
    "import requests"
   ]
  },
  {
   "cell_type": "markdown",
   "id": "8c55b5ca",
   "metadata": {},
   "source": [
    "## Setup Simulation Parameters"
   ]
  },
  {
   "cell_type": "code",
   "execution_count": null,
   "id": "88cc2b1c-a3ba-438c-9780-fe82d180e4be",
   "metadata": {},
   "outputs": [],
   "source": [
    "huc12 = \"070200030503\"\n",
    "start_datetime = datetime(2016, 1, 1, 0)\n",
    "end_datetime = datetime(2016, 1, 2, 0)\n",
    "\n",
    "params_subset_domain = {\"hucid_12\": huc12, \n",
    "                        \"start_date\": start_datetime.strftime(\"%m/%d/%Y\"), \n",
    "                        \"end_date\": end_datetime.strftime(\"%m/%d/%Y\")}\n",
    "params_subset_domain"
   ]
  },
  {
   "cell_type": "markdown",
   "id": "293edf59-fa23-4835-82ab-f7fe71e7d974",
   "metadata": {},
   "source": [
    "## Subset DOMAIN Files with GeoEDF Data Connector on CyberGIS Compute"
   ]
  },
  {
   "cell_type": "code",
   "execution_count": null,
   "id": "3ba8ad45",
   "metadata": {},
   "outputs": [],
   "source": [
    "import cybergis_compute_client\n",
    "from cybergis_compute_client import CyberGISCompute\n",
    "\n",
    "cybergis = CyberGISCompute(url=\"cgjobsup.cigi.illinois.edu\", isJupyter=True, protocol=\"HTTPS\", port=443, suffix=\"v2\")\n",
    "cybergis.show_ui(defaultJob=\"CUAHSI_Subsetter_Connector\") # input_params=params_subset_domain)"
   ]
  },
  {
   "cell_type": "code",
   "execution_count": null,
   "id": "e0ae01ad",
   "metadata": {},
   "outputs": [],
   "source": [
    "job_cuahsi_subset_domain = cybergis.job\n",
    "domain_path_HPC = \"{}\".format(job_cuahsi_subset_domain.id)\n",
    "domain_path_HPC"
   ]
  },
  {
   "cell_type": "markdown",
   "id": "734e2c4f-c6c7-44e4-a918-09ccd1960316",
   "metadata": {},
   "source": [
    "## Subset FORCINGS with GeoEDF Data Processor on CyberGIS Compute"
   ]
  },
  {
   "cell_type": "code",
   "execution_count": null,
   "id": "10bd3436-1624-4fcb-a02c-4f5554acacb8",
   "metadata": {},
   "outputs": [],
   "source": [
    "import cybergis_compute_client\n",
    "from cybergis_compute_client import CyberGISCompute\n",
    "\n",
    "cybergis = CyberGISCompute(url=\"cgjobsup.cigi.illinois.edu\", isJupyter=True, protocol=\"HTTPS\", port=443, suffix=\"v2\")\n",
    "cybergis.show_ui(defaultJob=\"Subset_AORC_Forcing_Data_Processor\") # input_params=params_subset_domain)"
   ]
  },
  {
   "cell_type": "code",
   "execution_count": null,
   "id": "88f50725-0878-4e41-bd84-1d1669c705d0",
   "metadata": {},
   "outputs": [],
   "source": [
    "job_subset_domain = cybergis.job\n",
    "forcing_path_HPC = \"{}\".format(job_subset_domain.id)\n",
    "forcing_path_HPC"
   ]
  },
  {
   "cell_type": "markdown",
   "id": "d31c202e-dfe2-4898-aed2-19b50c3a4a6b",
   "metadata": {},
   "source": [
    "## Prepare Model Configurations"
   ]
  },
  {
   "cell_type": "code",
   "execution_count": null,
   "id": "5cac2671-b7f6-4d89-9fd2-ae53a2c476ed",
   "metadata": {},
   "outputs": [],
   "source": [
    "# setEnvar.sh ---> SPATIAL_SOIL=1 export HYDRO_D=1"
   ]
  },
  {
   "cell_type": "code",
   "execution_count": null,
   "id": "1d2713c4",
   "metadata": {},
   "outputs": [],
   "source": [
    "# Create a \"Simulation\" directory\n",
    "\n",
    "workspace = os.getcwd()\n",
    "\n",
    "simulation_dir = os.path.join(workspace, 'Simulation')\n",
    "if os.path.exists(simulation_dir):\n",
    "    shutil.rmtree(simulation_dir)\n",
    "os.makedirs(simulation_dir)\n",
    "\n",
    "#List of files\n",
    "os.listdir(simulation_dir)"
   ]
  },
  {
   "cell_type": "code",
   "execution_count": null,
   "id": "f3486717-1af3-430e-9f26-7273ab6aefe7",
   "metadata": {},
   "outputs": [],
   "source": [
    "! wget https://raw.githubusercontent.com/NCAR/wrf_hydro_nwm_public/v5.2.0/trunk/NDHMS/template/setEnvar.sh\n",
    "! sed -i '/export HYDRO_D=0/c\\export HYDRO_D=1' ./setEnvar.sh\n",
    "! sed -i '/export SPATIAL_SOIL=0/c\\export SPATIAL_SOIL=1' ./setEnvar.sh\n",
    "! cat ./setEnvar.sh | grep -E 'HYDRO_D|SPATIAL_SOIL'\n",
    "! mv ./setEnvar.sh {simulation_dir}"
   ]
  },
  {
   "cell_type": "code",
   "execution_count": null,
   "id": "5a56f547-b5ac-4c11-9ee5-1f32bee122df",
   "metadata": {},
   "outputs": [],
   "source": [
    "# namelist.hrldas --> START_YEAR START_MONTH START_DAY START_HOUR START_MIN RESTART_FILENAME_REQUESTED\n",
    "start_year = start_datetime.year\n",
    "start_month = \"{:02d}\".format(start_datetime.month)\n",
    "start_day = \"{:02d}\".format(start_datetime.day)\n",
    "start_hour = \"{:02d}\".format(start_datetime.hour)\n",
    "start_minute = \"{:02d}\".format(start_datetime.minute)\n",
    "khour = (end_datetime - start_datetime) / timedelta(hours=1)\n",
    "khour = \"{}\".format(int(khour))"
   ]
  },
  {
   "cell_type": "code",
   "execution_count": null,
   "id": "9c8f2e74-73c3-4a05-b07a-aae0fa55a82f",
   "metadata": {},
   "outputs": [],
   "source": [
    "! rm -rf namelist.hrldas\n",
    "! wget https://raw.githubusercontent.com/NCAR/wrf_hydro_nwm_public/v5.2.0/trunk/NDHMS/template/NoahMP/namelist.hrldas\n",
    "! sed -i  '/HRLDAS_SETUP_FILE/c\\HRLDAS_SETUP_FILE = \"./DOMAIN/wrfinput_d0x.nc\"' ./namelist.hrldas\n",
    "! sed -i  '/START_YEAR/c\\START_YEAR = '\"$start_year\" ./namelist.hrldas\n",
    "! sed -i  '/START_MONTH/c\\START_MONTH = '\"$start_month\" ./namelist.hrldas\n",
    "! sed -i  '/START_DAY/c\\START_DAY = '\"$start_day\" ./namelist.hrldas\n",
    "! sed -i  '/START_HOUR/c\\START_HOUR = '\"$start_hour\" ./namelist.hrldas\n",
    "! sed -i  '/START_MIN/c\\START_MIN = '\"$start_minute\" ./namelist.hrldas\n",
    "! sed -i  '/KHOUR =/c\\KHOUR = '\"$khour\" ./namelist.hrldas\n",
    "! sed -i  '/RESTART_FILENAME_REQUESTED/c\\!RESTART_FILENAME_REQUESTED = \"\"' ./namelist.hrldas\n",
    "! cat ./namelist.hrldas | grep -E 'HRLDAS_SETUP_FILE|START_|KHOUR'\n",
    "! mv ./namelist.hrldas {simulation_dir}"
   ]
  },
  {
   "cell_type": "code",
   "execution_count": null,
   "id": "9ff1dbbb-bec1-4dfa-85ad-f5471ee7c9cb",
   "metadata": {},
   "outputs": [],
   "source": [
    "# hydro.namelist  --> RESTART_FILE\n",
    "! rm -rf hydro.namelist\n",
    "! wget https://raw.githubusercontent.com/NCAR/wrf_hydro_nwm_public/v5.2.0/trunk/NDHMS/template/HYDRO/hydro.namelist\n",
    "! sed -i '/GEO_STATIC_FLNM/c\\GEO_STATIC_FLNM = \"./DOMAIN/geo_em.d0x.nc\"' ./hydro.namelist\n",
    "! sed -i '/RESTART_FILE/c\\!RESTART_FILE = \"\"' ./hydro.namelist\n",
    "! sed -i '/outlake/c\\outlake  = 0' ./hydro.namelist\n",
    "! sed -i '/output_gw/c\\output_gw  = 0' ./hydro.namelist\n",
    "! sed -i '/GWBASESWCRT/c\\GWBASESWCRT  = 0' ./hydro.namelist\n",
    "! sed -i '/route_lake_f/c\\route_lake_f  = \"\"' ./hydro.namelist\n",
    "! cat hydro.namelist | grep -E \"RESTART|outlake|GWBASESWCRT|route_lake_f\"\n",
    "! mv ./hydro.namelist {simulation_dir}"
   ]
  },
  {
   "cell_type": "markdown",
   "id": "93d116bc-dfa3-41fe-ac3c-b42d0d3799cc",
   "metadata": {},
   "source": [
    "## Run WRFHydro Model on HPC with CyberGIS Compute"
   ]
  },
  {
   "cell_type": "code",
   "execution_count": null,
   "id": "29aa142b-3cf8-4916-afb3-1212ac439f93",
   "metadata": {},
   "outputs": [],
   "source": [
    "params_wrfhydro = {\"Model_Version\": \"v5.2.0\",\n",
    "                   \"Forcing_Path\": forcing_path_HPC,\n",
    "                   \"Domain_Path\": domain_path_HPC}\n",
    "params_wrfhydro"
   ]
  },
  {
   "cell_type": "code",
   "execution_count": null,
   "id": "b21a5878-22b2-4fe3-adc0-ec5147ddf0d8",
   "metadata": {},
   "outputs": [],
   "source": [
    "cybergis.create_job_by_ui(defaultJob=\"wrfhydro-5.x\", defaultDataFolder=simulation_dir)  #,input_params=params_wrfhydro)"
   ]
  },
  {
   "cell_type": "markdown",
   "id": "d1c27752-56d5-4e46-8457-001aa2c84f70",
   "metadata": {},
   "source": [
    "## Postprocesing"
   ]
  },
  {
   "cell_type": "code",
   "execution_count": null,
   "id": "428f454a-a04e-40d8-b167-01790612520a",
   "metadata": {},
   "outputs": [],
   "source": [
    "!echo {cybergis.recentDownloadPath}/"
   ]
  },
  {
   "cell_type": "code",
   "execution_count": null,
   "id": "97473e8c-3dd1-463f-a394-8708f7ee9352",
   "metadata": {},
   "outputs": [],
   "source": [
    "!ls -LR {cybergis.recentDownloadPath}/"
   ]
  },
  {
   "cell_type": "code",
   "execution_count": null,
   "id": "0516bc9b-be54-4d64-9c48-18cec0ed8380",
   "metadata": {},
   "outputs": [],
   "source": [
    "import xarray as xr\n",
    "chrtout = xr.open_mfdataset('{}/Outputs/CHRTOUT/*CHRTOUT*'.format(cybergis.recentDownloadPath),\n",
    "                            combine='by_coords')\n",
    "chrtout"
   ]
  },
  {
   "cell_type": "code",
   "execution_count": null,
   "id": "0a768cca-43eb-4cce-bd73-29132cbf7e1d",
   "metadata": {},
   "outputs": [],
   "source": [
    "chrtout.sel(feature_id = 1).streamflow.plot()"
   ]
  },
  {
   "cell_type": "code",
   "execution_count": null,
   "id": "007fb7a7-44af-4002-928a-2f5fdd21f04e",
   "metadata": {},
   "outputs": [],
   "source": []
  }
 ],
 "metadata": {
  "kernelspec": {
   "display_name": "Python 3 (ipykernel)",
   "language": "python",
   "name": "python3"
  },
  "language_info": {
   "codemirror_mode": {
    "name": "ipython",
    "version": 3
   },
   "file_extension": ".py",
   "mimetype": "text/x-python",
   "name": "python",
   "nbconvert_exporter": "python",
   "pygments_lexer": "ipython3",
   "version": "3.9.7"
  }
 },
 "nbformat": 4,
 "nbformat_minor": 5
}
